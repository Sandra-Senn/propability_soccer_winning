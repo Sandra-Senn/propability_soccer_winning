{
 "cells": [
  {
   "cell_type": "code",
   "execution_count": 2,
   "metadata": {},
   "outputs": [],
   "source": [
    "import requests\n",
    "import pandas as pd\n",
    "from bs4 import BeautifulSoup\n",
    "import lxml\n",
    "import html.parser"
   ]
  },
  {
   "cell_type": "code",
   "execution_count": 4,
   "metadata": {},
   "outputs": [
    {
     "name": "stdout",
     "output_type": "stream",
     "text": [
      "<Response [200]>\n"
     ]
    }
   ],
   "source": [
    "# url = \"https://inside.fifa.com/fifa-world-ranking/men?dateId=id13750\"\n",
    "# url = \"https://www.transfermarkt.com/vereins-statistik/wertvollstenationalmannschaften/marktwertetop?kontinent_id=0\"\n",
    "# url = \"https://de.wikipedia.org/wiki/World_Football_Elo_Ratings\"\n",
    "url = \"https://www.google.com/search?q=em+2024+spielplan&oq=em+2024+&gs_lcrp=EgZjaHJvbWUqDQgBEAAYgwEYsQMYgAQyBwgAEAAYjwIyDQgBEAAYgwEYsQMYgAQyCggCEAAYsQMYgAQyDQgDEAAYgwEYsQMYgAQyCggEEAAYsQMYgAQyEAgFEAAYgwEYsQMYgAQYigUyDQgGEAAYgwEYsQMYgAQyBwgHEAAYgAQyBwgIEAAYgAQyDQgJEAAYgwEYsQMYgATSAQgzOTg5ajBqN6gCCLACAQ&sourceid=chrome&ie=UTF-8#sie=lg;/m/0ynsg3h;2;/m/01l10v;st;fp;1;;;\"\n",
    "response = requests.get(url)\n",
    "print(response)\n",
    "\n",
    "\n",
    "# soup = BeautifulSoup(r.text, \"html.parser\")\n",
    "\n",
    "# table = soup.find(\"table\", class_=\"wikitable sortable jquery-tablesorter\")\n",
    "\n",
    "# print(table)"
   ]
  },
  {
   "cell_type": "code",
   "execution_count": 39,
   "metadata": {},
   "outputs": [
    {
     "name": "stdout",
     "output_type": "stream",
     "text": [
      "<Response [200]>\n"
     ]
    }
   ],
   "source": [
    "# url = \"https://www.transfermarkt.com/vereins-statistik/wertvollstenationalmannschaften/marktwertetop?kontinent_id=0\"\n",
    "# headers = {'User-Agent': 'Mozilla/5.0 (Windows NT 10.0; Win64; x64) AppleWebKit/537.36 (KHTML, like Gecko) Chrome/58.0.3029.110 Safari/537.3'}\n",
    "# response = requests.get(url, headers=headers)\n",
    "# print(r)"
   ]
  },
  {
   "cell_type": "code",
   "execution_count": 9,
   "metadata": {},
   "outputs": [
    {
     "name": "stdout",
     "output_type": "stream",
     "text": [
      "<Response [200]>\n",
      "None\n"
     ]
    }
   ],
   "source": [
    "# url = \"https://www.transfermarkt.com/vereins-statistik/wertvollstenationalmannschaften/marktwertetop?kontinent_id=0\"\n",
    "# headers = {'User-Agent': 'Mozilla/5.0 (Windows NT 10.0; Win64; x64) AppleWebKit/537.36 (KHTML, like Gecko) Chrome/58.0.3029.110 Safari/537.3'}\n",
    "# response = requests.get(url, headers=headers)\n",
    "url = \"https://www.google.com/search?q=em+2024+spielplan&oq=em+2024+&gs_lcrp=EgZjaHJvbWUqDQgBEAAYgwEYsQMYgAQyBwgAEAAYjwIyDQgBEAAYgwEYsQMYgAQyCggCEAAYsQMYgAQyDQgDEAAYgwEYsQMYgAQyCggEEAAYsQMYgAQyEAgFEAAYgwEYsQMYgAQYigUyDQgGEAAYgwEYsQMYgAQyBwgHEAAYgAQyBwgIEAAYgAQyDQgJEAAYgwEYsQMYgATSAQgzOTg5ajBqN6gCCLACAQ&sourceid=chrome&ie=UTF-8#sie=lg;/m/0ynsg3h;2;/m/01l10v;st;fp;1;;;\"\n",
    "\n",
    "print(response)\n",
    "\n",
    "\n",
    "soup = BeautifulSoup(response.content, \"lxml\")\n",
    "\n",
    "\n",
    "table = soup.find(\"table\", class_=\"liveresults-sports-immersive__match-grid\")\n",
    "print(table)"
   ]
  },
  {
   "cell_type": "code",
   "execution_count": 23,
   "metadata": {},
   "outputs": [
    {
     "name": "stdout",
     "output_type": "stream",
     "text": [
      "Div element not found.\n"
     ]
    }
   ],
   "source": [
    "# # Make a request to the URL\n",
    "# url = \"https://www.eloratings.net/\"\n",
    "# r = requests.get(url)\n",
    "\n",
    "# # Parse the HTML content\n",
    "# soup = BeautifulSoup(r.text, \"html.parser\")\n",
    "\n",
    "# # Find the div element\n",
    "# div_element = soup.find(\"div\", id=\"maintable_World\")\n",
    "\n",
    "# # Check if the div element is found\n",
    "# if div_element:\n",
    "#     # Extract data from the div element and create a table\n",
    "#     table_data = []\n",
    "#     for row in div_element.find_all(\"tr\"):\n",
    "#         row_data = [cell.text.strip() for cell in row.find_all([\"td\", \"th\"])]\n",
    "#         table_data.append(row_data)\n",
    "\n",
    "#     # Display the table data\n",
    "#     for row in table_data:\n",
    "#         print(row)\n",
    "# else:\n",
    "#     print(\"Div element not found.\")\n"
   ]
  }
 ],
 "metadata": {
  "kernelspec": {
   "display_name": "Python 3",
   "language": "python",
   "name": "python3"
  },
  "language_info": {
   "codemirror_mode": {
    "name": "ipython",
    "version": 3
   },
   "file_extension": ".py",
   "mimetype": "text/x-python",
   "name": "python",
   "nbconvert_exporter": "python",
   "pygments_lexer": "ipython3",
   "version": "3.12.3"
  }
 },
 "nbformat": 4,
 "nbformat_minor": 2
}
