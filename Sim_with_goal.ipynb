{
 "cells": [
  {
   "cell_type": "code",
   "execution_count": 1,
   "metadata": {
    "ExecuteTime": {
     "end_time": "2024-05-16T15:51:07.302951800Z",
     "start_time": "2024-05-16T15:50:54.514597100Z"
    }
   },
   "outputs": [],
   "source": [
    "import pandas as pd\n",
    "import numpy as np\n",
    "import itertools\n",
    "from itertools import combinations\n",
    "import matplotlib.pyplot as plt\n",
    "from scipy.stats import poisson"
   ]
  },
  {
   "cell_type": "markdown",
   "metadata": {},
   "source": []
  },
  {
   "cell_type": "code",
   "execution_count": 3,
   "metadata": {
    "ExecuteTime": {
     "end_time": "2024-05-16T15:52:09.369235Z",
     "start_time": "2024-05-16T15:52:07.256952Z"
    }
   },
   "outputs": [
    {
     "data": {
      "text/plain": "           Land Gruppe\n0   Deutschland      A\n1    Schottland      A\n2        Ungarn      A\n3       Schweiz      A\n4       Spanien      B\n5      Kroatien      B\n6       Italien      B\n7      Albanien      B\n8     Slowenien      C\n9      Dänemark      C\n10      Serbien      C\n11      England      C\n12        Polen      D\n13  Niederlande      D\n14   Österreich      D\n15   Frankreich      D\n16      Belgien      E\n17     Slowakei      E\n18     Rumänien      E\n19      Ukraine      E\n20       Türkei      F\n21     Georgien      F\n22     Portugal      F\n23   Tschechien      F",
      "text/html": "<div>\n<style scoped>\n    .dataframe tbody tr th:only-of-type {\n        vertical-align: middle;\n    }\n\n    .dataframe tbody tr th {\n        vertical-align: top;\n    }\n\n    .dataframe thead th {\n        text-align: right;\n    }\n</style>\n<table border=\"1\" class=\"dataframe\">\n  <thead>\n    <tr style=\"text-align: right;\">\n      <th></th>\n      <th>Land</th>\n      <th>Gruppe</th>\n    </tr>\n  </thead>\n  <tbody>\n    <tr>\n      <th>0</th>\n      <td>Deutschland</td>\n      <td>A</td>\n    </tr>\n    <tr>\n      <th>1</th>\n      <td>Schottland</td>\n      <td>A</td>\n    </tr>\n    <tr>\n      <th>2</th>\n      <td>Ungarn</td>\n      <td>A</td>\n    </tr>\n    <tr>\n      <th>3</th>\n      <td>Schweiz</td>\n      <td>A</td>\n    </tr>\n    <tr>\n      <th>4</th>\n      <td>Spanien</td>\n      <td>B</td>\n    </tr>\n    <tr>\n      <th>5</th>\n      <td>Kroatien</td>\n      <td>B</td>\n    </tr>\n    <tr>\n      <th>6</th>\n      <td>Italien</td>\n      <td>B</td>\n    </tr>\n    <tr>\n      <th>7</th>\n      <td>Albanien</td>\n      <td>B</td>\n    </tr>\n    <tr>\n      <th>8</th>\n      <td>Slowenien</td>\n      <td>C</td>\n    </tr>\n    <tr>\n      <th>9</th>\n      <td>Dänemark</td>\n      <td>C</td>\n    </tr>\n    <tr>\n      <th>10</th>\n      <td>Serbien</td>\n      <td>C</td>\n    </tr>\n    <tr>\n      <th>11</th>\n      <td>England</td>\n      <td>C</td>\n    </tr>\n    <tr>\n      <th>12</th>\n      <td>Polen</td>\n      <td>D</td>\n    </tr>\n    <tr>\n      <th>13</th>\n      <td>Niederlande</td>\n      <td>D</td>\n    </tr>\n    <tr>\n      <th>14</th>\n      <td>Österreich</td>\n      <td>D</td>\n    </tr>\n    <tr>\n      <th>15</th>\n      <td>Frankreich</td>\n      <td>D</td>\n    </tr>\n    <tr>\n      <th>16</th>\n      <td>Belgien</td>\n      <td>E</td>\n    </tr>\n    <tr>\n      <th>17</th>\n      <td>Slowakei</td>\n      <td>E</td>\n    </tr>\n    <tr>\n      <th>18</th>\n      <td>Rumänien</td>\n      <td>E</td>\n    </tr>\n    <tr>\n      <th>19</th>\n      <td>Ukraine</td>\n      <td>E</td>\n    </tr>\n    <tr>\n      <th>20</th>\n      <td>Türkei</td>\n      <td>F</td>\n    </tr>\n    <tr>\n      <th>21</th>\n      <td>Georgien</td>\n      <td>F</td>\n    </tr>\n    <tr>\n      <th>22</th>\n      <td>Portugal</td>\n      <td>F</td>\n    </tr>\n    <tr>\n      <th>23</th>\n      <td>Tschechien</td>\n      <td>F</td>\n    </tr>\n  </tbody>\n</table>\n</div>"
     },
     "execution_count": 3,
     "metadata": {},
     "output_type": "execute_result"
    }
   ],
   "source": [
    "# import team list from the european chamipionship 2024\n",
    "\n",
    "data_teams = pd.read_excel(\"./data/em_teams.xlsx\")\n",
    "data_teams = data_teams.replace('Tschechische Republik', 'Tschechien')\n",
    "data_teams\n"
   ]
  },
  {
   "cell_type": "markdown",
   "metadata": {},
   "source": []
  },
  {
   "cell_type": "code",
   "execution_count": 4,
   "metadata": {
    "ExecuteTime": {
     "end_time": "2024-05-16T15:52:11.938949800Z",
     "start_time": "2024-05-16T15:52:11.818625400Z"
    }
   },
   "outputs": [
    {
     "name": "stdout",
     "output_type": "stream",
     "text": [
      "            Land  Tore\n",
      "0     Schottland     3\n",
      "1        Spanien     3\n",
      "2       Georgien     1\n",
      "3     Schottland     2\n",
      "6     Schottland     2\n",
      "...          ...   ...\n",
      "1873  Tschechien     2\n",
      "1876     Spanien     2\n",
      "1877  Schottland     1\n",
      "1878  Tschechien     4\n",
      "1879  Schottland     1\n",
      "\n",
      "[798 rows x 2 columns]\n"
     ]
    }
   ],
   "source": [
    "data_goals_23 = pd.read_excel(\"./data/EM quali 22 23.xlsx\", header=None, names=[\"Land\", \"Tore\"])\n",
    "data_goals_19 = pd.read_excel(\"./data/EM quali 18 19.xlsx\", header=None, names=[\"Land\", \"Tore\"])\n",
    "data_goals_15 = pd.read_excel(\"./data/EM quali 14 15.xlsx\", header=None, names=[\"Land\", \"Tore\"])\n",
    "data_goals_11 = pd.read_excel(\"./data/EM quali 10 11.xlsx\", header=None, names=[\"Land\", \"Tore\"])\n",
    "\n",
    "data_goals_merged = pd.concat([data_goals_23, data_goals_19, data_goals_15, data_goals_11], ignore_index=True)\n",
    "data_goals_merged = data_goals_merged[data_goals_merged['Land'].isin(data_teams['Land'])]\n",
    "print(data_goals_merged)\n"
   ]
  },
  {
   "cell_type": "code",
   "execution_count": 5,
   "metadata": {
    "ExecuteTime": {
     "end_time": "2024-05-16T15:52:17.789033600Z",
     "start_time": "2024-05-16T15:52:17.763176Z"
    }
   },
   "outputs": [],
   "source": [
    "data_goals = {}\n",
    "\n",
    "for land, tore in data_goals_merged.groupby('Land')['Tore']:\n",
    "    # Die Tore als Liste speichern\n",
    "    data_goals[land] = list(tore)"
   ]
  },
  {
   "cell_type": "code",
   "execution_count": 10,
   "metadata": {
    "ExecuteTime": {
     "end_time": "2024-05-16T15:53:36.115615200Z",
     "start_time": "2024-05-16T15:53:35.549769800Z"
    }
   },
   "outputs": [
    {
     "data": {
      "text/plain": "<Figure size 800x600 with 1 Axes>",
      "image/png": "[encoded data removed]"
     },
     "metadata": {},
     "output_type": "display_data"
    }
   ],
   "source": [
    "# Histogramm für ein Land erstellen\n",
    "land = 'Italien'\n",
    "tore = data_goals[land]\n",
    "\n",
    "# Bestimme die maximale Anzahl von Toren\n",
    "max_tore = max(tore)\n",
    "\n",
    "# Schätze die Parameter der Poisson-Verteilung\n",
    "mu = np.mean(tore)\n",
    "\n",
    "# Erzeuge eine Poisson-Verteilung mit den geschätzten Parametern\n",
    "poisson_dist = poisson(mu)\n",
    "\n",
    "# Erzeuge das Histogramm der Tore\n",
    "plt.figure(figsize=(8, 6))\n",
    "plt.hist(tore, bins=max_tore+1, range=(-0.5, max_tore+0.5), density=True, alpha=0.6, color='g', label='Daten')\n",
    "\n",
    "# Erzeuge die Poisson-Verteilungskurve\n",
    "x_values = np.arange(0, max_tore+1)\n",
    "plt.plot(x_values, poisson_dist.pmf(x_values), 'bo-', label='Poisson-Verteilung')\n",
    "\n",
    "# Diagrammbeschriftung\n",
    "plt.title(f'Verteilung der Tore für {land} und Poisson-Verteilung')\n",
    "plt.xlabel('Tore')\n",
    "plt.ylabel('Dichte')\n",
    "plt.legend()\n",
    "plt.grid(True)\n",
    "plt.show()"
   ]
  },
  {
   "cell_type": "code",
   "execution_count": 11,
   "metadata": {
    "ExecuteTime": {
     "end_time": "2024-05-16T15:53:47.551827900Z",
     "start_time": "2024-05-16T15:53:47.546183800Z"
    }
   },
   "outputs": [],
   "source": [
    "#Gewinner durch Poisson-Verteilung\n",
    "def win_goals(data, country_a, country_b):\n",
    "    mu_a = np.mean(data[country_a])\n",
    "    mu_b = np.mean(data[country_b])\n",
    "\n",
    "    poisson_dist_a = poisson(mu_a)\n",
    "    poisson_dist_b = poisson(mu_b)\n",
    "\n",
    "    tore_a = poisson_dist_a.rvs()\n",
    "    tore_b = poisson_dist_b.rvs()\n",
    "\n",
    "    return tore_a, tore_b\n"
   ]
  },
  {
   "cell_type": "code",
   "execution_count": 12,
   "metadata": {
    "ExecuteTime": {
     "end_time": "2024-05-16T15:53:48.662178300Z",
     "start_time": "2024-05-16T15:53:48.645195900Z"
    }
   },
   "outputs": [],
   "source": [
    "def simulate_game_group(data, country_a, country_b):\n",
    "    tore_a, tore_b = win_goals(data, country_a, country_b)\n",
    "    punkte_a = 0\n",
    "    punkte_b = 0\n",
    "    if tore_a > tore_b:\n",
    "        punkte_a = 3\n",
    "    elif tore_a < tore_b:\n",
    "        punkte_b = 3\n",
    "    else:\n",
    "        punkte_a = 1\n",
    "        punkte_b = 1\n",
    "\n",
    "    return punkte_a, punkte_b, tore_a, tore_b\n",
    "\n",
    "def simulate_game_ko(data, country_a, country_b):\n",
    "    while True:\n",
    "        tore_a, tore_b = win_goals(data, country_a, country_b)\n",
    "        if tore_a > tore_b:\n",
    "            return country_a\n",
    "        elif tore_a < tore_b:\n",
    "            return country_b\n",
    "        else:\n",
    "            continue\n",
    "\n"
   ]
  },
  {
   "cell_type": "code",
   "execution_count": 13,
   "metadata": {
    "ExecuteTime": {
     "end_time": "2024-05-16T15:53:49.382753600Z",
     "start_time": "2024-05-16T15:53:49.355469600Z"
    }
   },
   "outputs": [
    {
     "name": "stdout",
     "output_type": "stream",
     "text": [
      "       Land Gruppe  points  goals_diff  goals_for  goals_against\n",
      "0  Rumänien      E       6           2          7              5\n",
      "1   Belgien      E       6           1          6              5\n",
      "2  Slowakei      E       4           0          6              6\n",
      "3   Ukraine      E       1          -3          5              8\n"
     ]
    }
   ],
   "source": [
    "def simulate_group(data, group=str):\n",
    "    # DataFrame für die spezifische Gruppe filtern\n",
    "    filtered_df = data_teams[data_teams['Gruppe'] == group].copy()\n",
    "\n",
    "    # Neue Spalten für Punkte und Tordifferenz hinzufügen und auf Null initialisieren\n",
    "    filtered_df.loc[:, 'points'] = 0\n",
    "    filtered_df.loc[:, 'goals_diff'] = 0\n",
    "    filtered_df.loc[:, 'goals_for'] = 0\n",
    "    filtered_df.loc[:, 'goals_against'] = 0\n",
    "\n",
    "    # Iteriere über alle Kombinationen von Ländern innerhalb der Gruppe und simuliere jedes Spiel\n",
    "    for country_a, country_b in combinations(filtered_df['Land'], 2):\n",
    "        punkte_a, punkte_b, tore_a, tore_b = simulate_game_group(data, country_a, country_b)\n",
    "        \n",
    "        # Punkte und Tordifferenz für jedes Land aktualisieren\n",
    "        filtered_df.loc[filtered_df['Land'] == country_a, 'points'] += punkte_a\n",
    "        filtered_df.loc[filtered_df['Land'] == country_b, 'points'] += punkte_b\n",
    "        filtered_df.loc[filtered_df['Land'] == country_a, 'goals_diff'] += tore_a - tore_b\n",
    "        filtered_df.loc[filtered_df['Land'] == country_b, 'goals_diff'] += tore_b - tore_a\n",
    "        filtered_df.loc[filtered_df['Land'] == country_a, 'goals_for'] += tore_a\n",
    "        filtered_df.loc[filtered_df['Land'] == country_a, 'goals_against'] += tore_b\n",
    "        filtered_df.loc[filtered_df['Land'] == country_b, 'goals_for'] += tore_b\n",
    "        filtered_df.loc[filtered_df['Land'] == country_b, 'goals_against'] += tore_a\n",
    "\n",
    "    # Sortiere die Länder nach Punkten und Tordifferenz\n",
    "    filtered_df = filtered_df.sort_values(by=['points', 'goals_diff', 'goals_for', 'goals_against'], ascending=False).reset_index(drop=True)\n",
    "\n",
    "    return filtered_df\n",
    "\n",
    "test = simulate_group(data_goals, \"E\")\n",
    "print(test)"
   ]
  },
  {
   "cell_type": "code",
   "execution_count": 14,
   "metadata": {
    "ExecuteTime": {
     "end_time": "2024-05-16T15:53:59.978003400Z",
     "start_time": "2024-05-16T15:53:59.952982400Z"
    }
   },
   "outputs": [],
   "source": [
    "def get_wildcard(groups: list):\n",
    "    # Erzeuge eine Liste mit den Gruppendritten\n",
    "    third_place = []\n",
    "    for group in groups:\n",
    "        third_place.append(group.iloc[2])\n",
    "    third_place = sorted(third_place, key=lambda x: (x['points'], x['goals_diff'], x['goals_for'], x['goals_against']), reverse=True)\n",
    "    \n",
    "    third_place = [team['Land'] for team in third_place]\n",
    "    return third_place"
   ]
  },
  {
   "cell_type": "code",
   "execution_count": 15,
   "metadata": {
    "ExecuteTime": {
     "end_time": "2024-05-16T15:54:02.152416Z",
     "start_time": "2024-05-16T15:54:01.855991200Z"
    }
   },
   "outputs": [
    {
     "name": "stdout",
     "output_type": "stream",
     "text": [
      "['Italien', 'Deutschland', 'Türkei', 'Niederlande', 'Belgien', 'Tschechien', 'England', 'Schweiz']\n"
     ]
    }
   ],
   "source": [
    "def octa_round(data):\n",
    "    #Get every group\n",
    "    group_a = simulate_group(data, \"A\")\n",
    "    group_b = simulate_group(data, \"B\")\n",
    "    group_c = simulate_group(data, \"C\")\n",
    "    group_d = simulate_group(data, \"D\")\n",
    "    group_e = simulate_group(data, \"E\")\n",
    "    group_f = simulate_group(data, \"F\")\n",
    "\n",
    "    #Get 4 extra teams (3rd place)\n",
    "    wildcard1 = get_wildcard([group_a, group_d, group_e, group_f])[0]\n",
    "    wildcard2 = get_wildcard([group_a, group_b, group_c])[0]\n",
    "    if wildcard1 == wildcard2:\n",
    "        wildcard2 = get_wildcard([group_a, group_b, group_c])[1]\n",
    "\n",
    "    wildcard3 = get_wildcard([group_a, group_b, group_c, group_d])[0]\n",
    "    if wildcard3 == wildcard1 or wildcard3 == wildcard2:\n",
    "        wildcard3 = get_wildcard([group_a, group_b, group_c, group_d])[1]\n",
    "        if wildcard3 == wildcard1 or wildcard3 == wildcard2:\n",
    "            wildcard3 = get_wildcard([group_a, group_b, group_c, group_d])[2]\n",
    "    \n",
    "    wildcard4 = get_wildcard([group_d, group_e, group_f])[0]\n",
    "    if wildcard4 == wildcard1 or wildcard4 == wildcard2 or wildcard4 == wildcard3:\n",
    "        wildcard4 = get_wildcard([group_d, group_e, group_f])[1]\n",
    "        if wildcard4 == wildcard1 or wildcard4 == wildcard2 or wildcard4 == wildcard3:\n",
    "            wildcard4 = get_wildcard([group_d, group_e, group_f])[2]\n",
    "\n",
    "\n",
    "    group_a = group_a['Land'].tolist()\n",
    "    group_b = group_b['Land'].tolist()\n",
    "    group_c = group_c['Land'].tolist()\n",
    "    group_d = group_d['Land'].tolist()\n",
    "    group_e = group_e['Land'].tolist()\n",
    "    group_f = group_f['Land'].tolist()\n",
    "\n",
    "    octa_final_1 = simulate_game_ko(data, group_b[0], wildcard1)\n",
    "    octa_final_2 = simulate_game_ko(data, group_a[0], group_c[1])\n",
    "    octa_final_3 = simulate_game_ko(data, group_f[0], wildcard2)\n",
    "    octa_final_4 = simulate_game_ko(data, group_d[1], group_e[1])\n",
    "    octa_final_5 = simulate_game_ko(data, group_e[0], wildcard3)\n",
    "    octa_final_6 = simulate_game_ko(data, group_d[0], group_f[1])\n",
    "    octa_final_7 = simulate_game_ko(data, group_c[0], wildcard4)\n",
    "    octa_final_8 = simulate_game_ko(data, group_a[1], group_b[1])\n",
    "\n",
    "    octa_finals = [octa_final_1, octa_final_2, octa_final_3, octa_final_4, octa_final_5, octa_final_6, octa_final_7, octa_final_8]\n",
    "\n",
    "    return octa_finals\n",
    "\n",
    "\n",
    "\n",
    "test = octa_round(data_goals)\n",
    "print(test)"
   ]
  },
  {
   "cell_type": "code",
   "execution_count": 16,
   "metadata": {
    "ExecuteTime": {
     "end_time": "2024-05-16T15:54:03.549505Z",
     "start_time": "2024-05-16T15:54:03.530647300Z"
    }
   },
   "outputs": [
    {
     "name": "stdout",
     "output_type": "stream",
     "text": [
      "['Deutschland', 'Niederlande', 'Tschechien', 'England']\n"
     ]
    }
   ],
   "source": [
    "def quater_round(data, octa_finals):\n",
    "    quater_final_1 = simulate_game_ko(data, octa_finals[0], octa_finals[1])\n",
    "    quater_final_2 = simulate_game_ko(data, octa_finals[2], octa_finals[3])\n",
    "    quater_final_3 = simulate_game_ko(data, octa_finals[4], octa_finals[5])\n",
    "    quater_final_4 = simulate_game_ko(data, octa_finals[6], octa_finals[7])\n",
    "\n",
    "    quater_finals = [quater_final_1, quater_final_2, quater_final_3, quater_final_4]\n",
    "\n",
    "    return quater_finals\n",
    "\n",
    "test_quater = quater_round(data_goals, test)\n",
    "print(test_quater)"
   ]
  },
  {
   "cell_type": "code",
   "execution_count": 17,
   "metadata": {
    "ExecuteTime": {
     "end_time": "2024-05-16T15:54:04.785670900Z",
     "start_time": "2024-05-16T15:54:04.774178200Z"
    }
   },
   "outputs": [
    {
     "name": "stdout",
     "output_type": "stream",
     "text": [
      "['Deutschland', 'Tschechien']\n"
     ]
    }
   ],
   "source": [
    "def half_round(data, quater_finals):\n",
    "    half_final_1 = simulate_game_ko(data, quater_finals[0], quater_finals[1])\n",
    "    half_final_2 = simulate_game_ko(data, quater_finals[2], quater_finals[3])\n",
    "\n",
    "    half_finals = [half_final_1, half_final_2]\n",
    "\n",
    "    return half_finals\n",
    "\n",
    "test_half = half_round(data_goals, test_quater)\n",
    "print(test_half)"
   ]
  },
  {
   "cell_type": "code",
   "execution_count": 18,
   "metadata": {
    "ExecuteTime": {
     "end_time": "2024-05-16T15:54:09.136534Z",
     "start_time": "2024-05-16T15:54:09.120229600Z"
    }
   },
   "outputs": [
    {
     "name": "stdout",
     "output_type": "stream",
     "text": [
      "Deutschland\n"
     ]
    }
   ],
   "source": [
    "def final_round(data, half_finals):\n",
    "    final = simulate_game_ko(data, half_finals[0], half_finals[1])\n",
    "\n",
    "    return final\n",
    "\n",
    "test_final = final_round(data_goals, test_half)\n",
    "print(test_final)"
   ]
  },
  {
   "cell_type": "code",
   "execution_count": 19,
   "metadata": {
    "ExecuteTime": {
     "end_time": "2024-05-16T15:54:10.015719700Z",
     "start_time": "2024-05-16T15:54:09.714445700Z"
    }
   },
   "outputs": [],
   "source": [
    "def simulate_tournament(data):\n",
    "    octa_finals = octa_round(data)\n",
    "    quater_finals = quater_round(data, octa_finals)\n",
    "    half_finals = half_round(data, quater_finals)\n",
    "    final = final_round(data, half_finals)\n",
    "\n",
    "    return final\n",
    "\n",
    "test_tournament = simulate_tournament(data_goals)\n"
   ]
  },
  {
   "cell_type": "code",
   "execution_count": 20,
   "metadata": {
    "ExecuteTime": {
     "end_time": "2024-05-16T15:54:12.201109200Z",
     "start_time": "2024-05-16T15:54:12.192877600Z"
    }
   },
   "outputs": [],
   "source": [
    "def multiple_simulations(data, n):\n",
    "    winner_dict = {}\n",
    "\n",
    "    for i in range(n):\n",
    "        winner = simulate_tournament(data)\n",
    "        print(i)\n",
    "\n",
    "        if winner not in winner_dict:\n",
    "            winner_dict[winner] = 1\n",
    "        else:\n",
    "            winner_dict[winner] += 1\n",
    "        \n",
    "    return winner_dict"
   ]
  },
  {
   "cell_type": "code",
   "execution_count": 21,
   "metadata": {
    "ExecuteTime": {
     "end_time": "2024-05-16T15:55:37.981449400Z",
     "start_time": "2024-05-16T15:54:13.916199300Z"
    }
   },
   "outputs": [
    {
     "name": "stdout",
     "output_type": "stream",
     "text": [
      "0\n",
      "1\n",
      "2\n",
      "3\n",
      "4\n",
      "5\n",
      "6\n",
      "7\n",
      "8\n",
      "9\n",
      "10\n",
      "11\n",
      "12\n",
      "13\n",
      "14\n",
      "15\n",
      "16\n",
      "17\n",
      "18\n",
      "19\n",
      "20\n",
      "21\n",
      "22\n",
      "23\n",
      "24\n",
      "25\n",
      "26\n",
      "27\n",
      "28\n",
      "29\n",
      "30\n",
      "31\n",
      "32\n",
      "33\n",
      "34\n",
      "35\n",
      "36\n",
      "37\n",
      "38\n",
      "39\n",
      "40\n",
      "41\n",
      "42\n",
      "43\n",
      "44\n",
      "45\n",
      "46\n",
      "47\n",
      "48\n",
      "49\n",
      "50\n",
      "51\n",
      "52\n",
      "53\n",
      "54\n",
      "55\n",
      "56\n",
      "57\n",
      "58\n",
      "59\n",
      "60\n",
      "61\n",
      "62\n",
      "63\n",
      "64\n",
      "65\n",
      "66\n",
      "67\n",
      "68\n",
      "69\n",
      "70\n",
      "71\n",
      "72\n",
      "73\n",
      "74\n",
      "75\n",
      "76\n",
      "77\n",
      "78\n",
      "79\n",
      "80\n",
      "81\n",
      "82\n",
      "83\n",
      "84\n",
      "85\n",
      "86\n",
      "87\n",
      "88\n",
      "89\n",
      "90\n",
      "91\n",
      "92\n",
      "93\n",
      "94\n",
      "95\n",
      "96\n",
      "97\n",
      "98\n",
      "99\n",
      "100\n",
      "101\n",
      "102\n",
      "103\n",
      "104\n",
      "105\n",
      "106\n",
      "107\n",
      "108\n",
      "109\n",
      "110\n",
      "111\n",
      "112\n",
      "113\n",
      "114\n",
      "115\n",
      "116\n",
      "117\n",
      "118\n",
      "119\n",
      "120\n",
      "121\n",
      "122\n",
      "123\n",
      "124\n",
      "125\n",
      "126\n",
      "127\n",
      "128\n",
      "129\n",
      "130\n",
      "131\n",
      "132\n",
      "133\n",
      "134\n",
      "135\n",
      "136\n",
      "137\n",
      "138\n",
      "139\n",
      "140\n",
      "141\n",
      "142\n",
      "143\n",
      "144\n",
      "145\n",
      "146\n",
      "147\n",
      "148\n",
      "149\n",
      "150\n",
      "151\n",
      "152\n",
      "153\n",
      "154\n",
      "155\n",
      "156\n",
      "157\n",
      "158\n",
      "159\n",
      "160\n",
      "161\n",
      "162\n",
      "163\n",
      "164\n",
      "165\n",
      "166\n",
      "167\n",
      "168\n",
      "169\n",
      "170\n",
      "171\n",
      "172\n",
      "173\n",
      "174\n",
      "175\n",
      "176\n",
      "177\n",
      "178\n",
      "179\n",
      "180\n",
      "181\n",
      "182\n",
      "183\n",
      "184\n",
      "185\n",
      "186\n",
      "187\n",
      "188\n",
      "189\n",
      "190\n",
      "191\n",
      "192\n",
      "193\n",
      "194\n",
      "195\n",
      "196\n",
      "197\n",
      "198\n",
      "199\n",
      "200\n",
      "201\n",
      "202\n",
      "203\n",
      "204\n",
      "205\n",
      "206\n",
      "207\n",
      "208\n",
      "209\n",
      "210\n",
      "211\n",
      "212\n",
      "213\n",
      "214\n",
      "215\n",
      "216\n",
      "217\n",
      "218\n",
      "219\n",
      "220\n",
      "221\n",
      "222\n",
      "223\n",
      "224\n",
      "225\n",
      "226\n",
      "227\n",
      "228\n",
      "229\n",
      "230\n",
      "231\n",
      "232\n",
      "233\n",
      "234\n",
      "235\n",
      "236\n",
      "237\n",
      "238\n",
      "239\n",
      "240\n",
      "241\n",
      "242\n",
      "243\n",
      "244\n",
      "245\n",
      "246\n",
      "247\n",
      "248\n",
      "249\n",
      "250\n",
      "251\n",
      "252\n",
      "253\n",
      "254\n",
      "255\n",
      "256\n",
      "257\n",
      "258\n",
      "259\n",
      "260\n",
      "261\n",
      "262\n",
      "263\n",
      "264\n",
      "265\n",
      "266\n",
      "267\n",
      "268\n",
      "269\n",
      "270\n",
      "271\n",
      "272\n",
      "273\n",
      "274\n",
      "275\n",
      "276\n",
      "277\n",
      "278\n",
      "279\n",
      "280\n",
      "281\n",
      "282\n",
      "283\n",
      "284\n",
      "285\n",
      "286\n",
      "287\n",
      "288\n",
      "289\n",
      "290\n",
      "291\n",
      "292\n",
      "293\n",
      "294\n",
      "295\n",
      "296\n",
      "297\n",
      "298\n",
      "299\n",
      "{'England': 68, 'Italien': 18, 'Ukraine': 3, 'Deutschland': 44, 'Portugal': 23, 'Niederlande': 28, 'Ungarn': 1, 'Spanien': 36, 'Dänemark': 7, 'Belgien': 29, 'Schweiz': 9, 'Kroatien': 2, 'Slowakei': 1, 'Polen': 11, 'Frankreich': 6, 'Österreich': 5, 'Türkei': 2, 'Schottland': 1, 'Tschechien': 3, 'Rumänien': 1, 'Albanien': 1, 'Slowenien': 1}\n"
     ]
    }
   ],
   "source": [
    "n = 300\n",
    "lst = multiple_simulations(data_goals, n)\n",
    "print(lst)"
   ]
  },
  {
   "cell_type": "code",
   "execution_count": 22,
   "metadata": {
    "ExecuteTime": {
     "end_time": "2024-05-16T15:55:46.806344400Z",
     "start_time": "2024-05-16T15:55:46.529491600Z"
    }
   },
   "outputs": [
    {
     "data": {
      "text/plain": "<Figure size 640x480 with 1 Axes>",
      "image/png": "[encoded data removed]"
     },
     "metadata": {},
     "output_type": "display_data"
    }
   ],
   "source": [
    "plt.barh(list(lst.keys()), lst.values())  # Horizontaler Balkendiagramm\n",
    "plt.xlabel('Häufigkeit')\n",
    "plt.ylabel('Gewinner')\n",
    "plt.title('Häufigkeit der Gewinner in Simulationen')\n",
    "plt.show()"
   ]
  },
  {
   "cell_type": "code",
   "execution_count": 23,
   "metadata": {},
   "outputs": [
    {
     "name": "stdout",
     "output_type": "stream",
     "text": [
      "Chance das die Schweiz die EM gewinnt liegt bei: 2.0 %\n",
      "Anzahl der Simulationen: 300\n"
     ]
    }
   ],
   "source": [
    "print(\"Chance das die Schweiz die EM gewinnt liegt bei:\", lst[\"Schweiz\"]/n * 100, \"%\")\n",
    "print(\"Anzahl der Simulationen:\", n)"
   ]
  },
  {
   "cell_type": "code",
   "execution_count": null,
   "metadata": {},
   "outputs": [],
   "source": [
    "# def ko_quali_list(group_rangking, groups = [\"A\", \"B\", \"C\", \"D\", \"E\", \"F\"]):\n",
    "#     winner = []\n",
    "\n",
    "#     for group in groups:\n",
    "#         if \n",
    "\n",
    "\n",
    "#def ko_simulation():\n",
    "      \n",
    " \n",
    "    \n",
    "  \n",
    "# def ko_winners():\n",
    "\n",
    "    \n",
    "\n",
    "# def final_simulation():\n",
    "    \n",
    "\n",
    "# def simulation(data, repetitions):\n"
   ]
  },
  {
   "cell_type": "code",
   "execution_count": null,
   "metadata": {},
   "outputs": [],
   "source": [
    "# TO DO:\n",
    "# - create all functions\n",
    "# - make this file a heler file\n",
    "# - run the simulation in a new file called simulation\n",
    "# - calc the possibility that Switzerland wins the EC"
   ]
  }
 ],
 "metadata": {
  "kernelspec": {
   "display_name": "Python 3",
   "language": "python",
   "name": "python3"
  },
  "language_info": {
   "codemirror_mode": {
    "name": "ipython",
    "version": 3
   },
   "file_extension": ".py",
   "mimetype": "text/x-python",
   "name": "python",
   "nbconvert_exporter": "python",
   "pygments_lexer": "ipython3",
   "version": "3.12.3"
  }
 },
 "nbformat": 4,
 "nbformat_minor": 2
}
