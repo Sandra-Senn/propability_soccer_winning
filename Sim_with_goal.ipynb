{
 "cells": [
  {
   "cell_type": "code",
   "execution_count": 2,
   "metadata": {
    "ExecuteTime": {
     "end_time": "2024-05-16T15:51:07.302951800Z",
     "start_time": "2024-05-16T15:50:54.514597100Z"
    }
   },
   "outputs": [
    {
     "ename": "ModuleNotFoundError",
     "evalue": "No module named 'pandas'",
     "output_type": "error",
     "traceback": [
      "\u001b[1;31m---------------------------------------------------------------------------\u001b[0m",
      "\u001b[1;31mModuleNotFoundError\u001b[0m                       Traceback (most recent call last)",
      "Cell \u001b[1;32mIn[2], line 1\u001b[0m\n\u001b[1;32m----> 1\u001b[0m \u001b[38;5;28;01mimport\u001b[39;00m \u001b[38;5;21;01mpandas\u001b[39;00m \u001b[38;5;28;01mas\u001b[39;00m \u001b[38;5;21;01mpd\u001b[39;00m\n\u001b[0;32m      2\u001b[0m \u001b[38;5;28;01mimport\u001b[39;00m \u001b[38;5;21;01mnumpy\u001b[39;00m \u001b[38;5;28;01mas\u001b[39;00m \u001b[38;5;21;01mnp\u001b[39;00m\n\u001b[0;32m      3\u001b[0m \u001b[38;5;28;01mimport\u001b[39;00m \u001b[38;5;21;01mitertools\u001b[39;00m\n",
      "\u001b[1;31mModuleNotFoundError\u001b[0m: No module named 'pandas'"
     ]
    }
   ],
   "source": [
    "import pandas as pd\n",
    "import numpy as np\n",
    "import itertools\n",
    "from itertools import combinations\n",
    "import matplotlib.pyplot as plt\n",
    "from scipy.stats import poisson"
   ]
  },
  {
   "cell_type": "markdown",
   "metadata": {},
   "source": []
  },
  {
   "cell_type": "code",
   "execution_count": null,
   "metadata": {
    "ExecuteTime": {
     "end_time": "2024-05-16T15:52:09.369235Z",
     "start_time": "2024-05-16T15:52:07.256952Z"
    }
   },
   "outputs": [],
   "source": [
    "# import team list from the european chamipionship 2024\n",
    "\n",
    "data_teams = pd.read_excel(\"./data/em_teams.xlsx\")\n",
    "data_teams = data_teams.replace('Tschechische Republik', 'Tschechien')\n",
    "data_teams\n"
   ]
  },
  {
   "cell_type": "markdown",
   "metadata": {},
   "source": []
  },
  {
   "cell_type": "code",
   "execution_count": null,
   "metadata": {
    "ExecuteTime": {
     "end_time": "2024-05-16T15:52:11.938949800Z",
     "start_time": "2024-05-16T15:52:11.818625400Z"
    }
   },
   "outputs": [],
   "source": [
    "data_goals_23 = pd.read_excel(\"./data/EM quali 22 23.xlsx\", header=None, names=[\"Land\", \"Tore\"])\n",
    "data_goals_19 = pd.read_excel(\"./data/EM quali 18 19.xlsx\", header=None, names=[\"Land\", \"Tore\"])\n",
    "data_goals_15 = pd.read_excel(\"./data/EM quali 14 15.xlsx\", header=None, names=[\"Land\", \"Tore\"])\n",
    "data_goals_11 = pd.read_excel(\"./data/EM quali 10 11.xlsx\", header=None, names=[\"Land\", \"Tore\"])\n",
    "\n",
    "data_goals_merged = pd.concat([data_goals_23, data_goals_19, data_goals_15, data_goals_11], ignore_index=True)\n",
    "data_goals_merged = data_goals_merged[data_goals_merged['Land'].isin(data_teams['Land'])]\n",
    "print(data_goals_merged)\n"
   ]
  },
  {
   "cell_type": "code",
   "execution_count": null,
   "metadata": {
    "ExecuteTime": {
     "end_time": "2024-05-16T15:52:17.789033600Z",
     "start_time": "2024-05-16T15:52:17.763176Z"
    }
   },
   "outputs": [],
   "source": [
    "data_goals = {}\n",
    "\n",
    "for land, tore in data_goals_merged.groupby('Land')['Tore']:\n",
    "    # Die Tore als Liste speichern\n",
    "    data_goals[land] = list(tore)"
   ]
  },
  {
   "cell_type": "code",
   "execution_count": null,
   "metadata": {
    "ExecuteTime": {
     "end_time": "2024-05-16T15:53:36.115615200Z",
     "start_time": "2024-05-16T15:53:35.549769800Z"
    }
   },
   "outputs": [],
   "source": [
    "# Histogramm für ein Land erstellen\n",
    "land = 'Italien'\n",
    "tore = data_goals[land]\n",
    "\n",
    "# Bestimme die maximale Anzahl von Toren\n",
    "max_tore = max(tore)\n",
    "\n",
    "# Schätze die Parameter der Poisson-Verteilung\n",
    "mu = np.mean(tore)\n",
    "\n",
    "# Erzeuge eine Poisson-Verteilung mit den geschätzten Parametern\n",
    "poisson_dist = poisson(mu)\n",
    "\n",
    "# Erzeuge das Histogramm der Tore\n",
    "plt.figure(figsize=(8, 6))\n",
    "plt.hist(tore, bins=max_tore+1, range=(-0.5, max_tore+0.5), density=True, alpha=0.6, color='g', label='Daten')\n",
    "\n",
    "# Erzeuge die Poisson-Verteilungskurve\n",
    "x_values = np.arange(0, max_tore+1)\n",
    "plt.plot(x_values, poisson_dist.pmf(x_values), 'bo-', label='Poisson-Verteilung')\n",
    "\n",
    "# Diagrammbeschriftung\n",
    "plt.title(f'Verteilung der Tore für {land} und Poisson-Verteilung')\n",
    "plt.xlabel('Tore')\n",
    "plt.ylabel('Dichte')\n",
    "plt.legend()\n",
    "plt.grid(True)\n",
    "plt.show()"
   ]
  },
  {
   "cell_type": "code",
   "execution_count": null,
   "metadata": {
    "ExecuteTime": {
     "end_time": "2024-05-16T15:53:47.551827900Z",
     "start_time": "2024-05-16T15:53:47.546183800Z"
    }
   },
   "outputs": [],
   "source": [
    "#Gewinner durch Poisson-Verteilung\n",
    "def win_goals(data, country_a, country_b):\n",
    "    mu_a = np.mean(data[country_a])\n",
    "    mu_b = np.mean(data[country_b])\n",
    "\n",
    "    poisson_dist_a = poisson(mu_a)\n",
    "    poisson_dist_b = poisson(mu_b)\n",
    "\n",
    "    tore_a = poisson_dist_a.rvs()\n",
    "    tore_b = poisson_dist_b.rvs()\n",
    "\n",
    "    return tore_a, tore_b\n"
   ]
  },
  {
   "cell_type": "code",
   "execution_count": null,
   "metadata": {
    "ExecuteTime": {
     "end_time": "2024-05-16T15:53:48.662178300Z",
     "start_time": "2024-05-16T15:53:48.645195900Z"
    }
   },
   "outputs": [],
   "source": [
    "def simulate_game_group(data, country_a, country_b):\n",
    "    tore_a, tore_b = win_goals(data, country_a, country_b)\n",
    "    punkte_a = 0\n",
    "    punkte_b = 0\n",
    "    if tore_a > tore_b:\n",
    "        punkte_a = 3\n",
    "    elif tore_a < tore_b:\n",
    "        punkte_b = 3\n",
    "    else:\n",
    "        punkte_a = 1\n",
    "        punkte_b = 1\n",
    "\n",
    "    return punkte_a, punkte_b, tore_a, tore_b\n",
    "\n",
    "def simulate_game_ko(data, country_a, country_b):\n",
    "    while True:\n",
    "        tore_a, tore_b = win_goals(data, country_a, country_b)\n",
    "        if tore_a > tore_b:\n",
    "            return country_a\n",
    "        elif tore_a < tore_b:\n",
    "            return country_b\n",
    "        else:\n",
    "            continue\n",
    "\n"
   ]
  },
  {
   "cell_type": "code",
   "execution_count": null,
   "metadata": {
    "ExecuteTime": {
     "end_time": "2024-05-16T15:53:49.382753600Z",
     "start_time": "2024-05-16T15:53:49.355469600Z"
    }
   },
   "outputs": [],
   "source": [
    "def simulate_group(data, group=str):\n",
    "    # DataFrame für die spezifische Gruppe filtern\n",
    "    filtered_df = data_teams[data_teams['Gruppe'] == group].copy()\n",
    "\n",
    "    # Neue Spalten für Punkte und Tordifferenz hinzufügen und auf Null initialisieren\n",
    "    filtered_df.loc[:, 'points'] = 0\n",
    "    filtered_df.loc[:, 'goals_diff'] = 0\n",
    "    filtered_df.loc[:, 'goals_for'] = 0\n",
    "    filtered_df.loc[:, 'goals_against'] = 0\n",
    "\n",
    "    # Iteriere über alle Kombinationen von Ländern innerhalb der Gruppe und simuliere jedes Spiel\n",
    "    for country_a, country_b in combinations(filtered_df['Land'], 2):\n",
    "        punkte_a, punkte_b, tore_a, tore_b = simulate_game_group(data, country_a, country_b)\n",
    "        \n",
    "        # Punkte und Tordifferenz für jedes Land aktualisieren\n",
    "        filtered_df.loc[filtered_df['Land'] == country_a, 'points'] += punkte_a\n",
    "        filtered_df.loc[filtered_df['Land'] == country_b, 'points'] += punkte_b\n",
    "        filtered_df.loc[filtered_df['Land'] == country_a, 'goals_diff'] += tore_a - tore_b\n",
    "        filtered_df.loc[filtered_df['Land'] == country_b, 'goals_diff'] += tore_b - tore_a\n",
    "        filtered_df.loc[filtered_df['Land'] == country_a, 'goals_for'] += tore_a\n",
    "        filtered_df.loc[filtered_df['Land'] == country_a, 'goals_against'] += tore_b\n",
    "        filtered_df.loc[filtered_df['Land'] == country_b, 'goals_for'] += tore_b\n",
    "        filtered_df.loc[filtered_df['Land'] == country_b, 'goals_against'] += tore_a\n",
    "\n",
    "    # Sortiere die Länder nach Punkten und Tordifferenz\n",
    "    filtered_df = filtered_df.sort_values(by=['points', 'goals_diff', 'goals_for', 'goals_against'], ascending=False).reset_index(drop=True)\n",
    "\n",
    "    return filtered_df\n",
    "\n",
    "test = simulate_group(data_goals, \"E\")\n",
    "print(test)"
   ]
  },
  {
   "cell_type": "code",
   "execution_count": null,
   "metadata": {
    "ExecuteTime": {
     "end_time": "2024-05-16T15:53:59.978003400Z",
     "start_time": "2024-05-16T15:53:59.952982400Z"
    }
   },
   "outputs": [],
   "source": [
    "def get_wildcard(groups: list):\n",
    "    # Erzeuge eine Liste mit den Gruppendritten\n",
    "    third_place = []\n",
    "    for group in groups:\n",
    "        third_place.append(group.iloc[2])\n",
    "    third_place = sorted(third_place, key=lambda x: (x['points'], x['goals_diff'], x['goals_for'], x['goals_against']), reverse=True)\n",
    "    \n",
    "    third_place = [team['Land'] for team in third_place]\n",
    "    return third_place"
   ]
  },
  {
   "cell_type": "code",
   "execution_count": null,
   "metadata": {
    "ExecuteTime": {
     "end_time": "2024-05-16T15:54:02.152416Z",
     "start_time": "2024-05-16T15:54:01.855991200Z"
    }
   },
   "outputs": [],
   "source": [
    "def octa_round(data):\n",
    "    #Get every group\n",
    "    group_a = simulate_group(data, \"A\")\n",
    "    group_b = simulate_group(data, \"B\")\n",
    "    group_c = simulate_group(data, \"C\")\n",
    "    group_d = simulate_group(data, \"D\")\n",
    "    group_e = simulate_group(data, \"E\")\n",
    "    group_f = simulate_group(data, \"F\")\n",
    "\n",
    "    #Get 4 extra teams (3rd place)\n",
    "    wildcard1 = get_wildcard([group_a, group_d, group_e, group_f])[0]\n",
    "    wildcard2 = get_wildcard([group_a, group_b, group_c])[0]\n",
    "    if wildcard1 == wildcard2:\n",
    "        wildcard2 = get_wildcard([group_a, group_b, group_c])[1]\n",
    "\n",
    "    wildcard3 = get_wildcard([group_a, group_b, group_c, group_d])[0]\n",
    "    if wildcard3 == wildcard1 or wildcard3 == wildcard2:\n",
    "        wildcard3 = get_wildcard([group_a, group_b, group_c, group_d])[1]\n",
    "        if wildcard3 == wildcard1 or wildcard3 == wildcard2:\n",
    "            wildcard3 = get_wildcard([group_a, group_b, group_c, group_d])[2]\n",
    "    \n",
    "    wildcard4 = get_wildcard([group_d, group_e, group_f])[0]\n",
    "    if wildcard4 == wildcard1 or wildcard4 == wildcard2 or wildcard4 == wildcard3:\n",
    "        wildcard4 = get_wildcard([group_d, group_e, group_f])[1]\n",
    "        if wildcard4 == wildcard1 or wildcard4 == wildcard2 or wildcard4 == wildcard3:\n",
    "            wildcard4 = get_wildcard([group_d, group_e, group_f])[2]\n",
    "\n",
    "\n",
    "    group_a = group_a['Land'].tolist()\n",
    "    group_b = group_b['Land'].tolist()\n",
    "    group_c = group_c['Land'].tolist()\n",
    "    group_d = group_d['Land'].tolist()\n",
    "    group_e = group_e['Land'].tolist()\n",
    "    group_f = group_f['Land'].tolist()\n",
    "\n",
    "    octa_final_1 = simulate_game_ko(data, group_b[0], wildcard1)\n",
    "    octa_final_2 = simulate_game_ko(data, group_a[0], group_c[1])\n",
    "    octa_final_3 = simulate_game_ko(data, group_f[0], wildcard2)\n",
    "    octa_final_4 = simulate_game_ko(data, group_d[1], group_e[1])\n",
    "    octa_final_5 = simulate_game_ko(data, group_e[0], wildcard3)\n",
    "    octa_final_6 = simulate_game_ko(data, group_d[0], group_f[1])\n",
    "    octa_final_7 = simulate_game_ko(data, group_c[0], wildcard4)\n",
    "    octa_final_8 = simulate_game_ko(data, group_a[1], group_b[1])\n",
    "\n",
    "    octa_finals = [octa_final_1, octa_final_2, octa_final_3, octa_final_4, octa_final_5, octa_final_6, octa_final_7, octa_final_8]\n",
    "\n",
    "    return octa_finals\n",
    "\n",
    "\n",
    "\n",
    "test = octa_round(data_goals)\n",
    "print(test)"
   ]
  },
  {
   "cell_type": "code",
   "execution_count": null,
   "metadata": {
    "ExecuteTime": {
     "end_time": "2024-05-16T15:54:03.549505Z",
     "start_time": "2024-05-16T15:54:03.530647300Z"
    }
   },
   "outputs": [],
   "source": [
    "def quater_round(data, octa_finals):\n",
    "    quater_final_1 = simulate_game_ko(data, octa_finals[0], octa_finals[1])\n",
    "    quater_final_2 = simulate_game_ko(data, octa_finals[2], octa_finals[3])\n",
    "    quater_final_3 = simulate_game_ko(data, octa_finals[4], octa_finals[5])\n",
    "    quater_final_4 = simulate_game_ko(data, octa_finals[6], octa_finals[7])\n",
    "\n",
    "    quater_finals = [quater_final_1, quater_final_2, quater_final_3, quater_final_4]\n",
    "\n",
    "    return quater_finals\n",
    "\n",
    "test_quater = quater_round(data_goals, test)\n",
    "print(test_quater)"
   ]
  },
  {
   "cell_type": "code",
   "execution_count": null,
   "metadata": {
    "ExecuteTime": {
     "end_time": "2024-05-16T15:54:04.785670900Z",
     "start_time": "2024-05-16T15:54:04.774178200Z"
    }
   },
   "outputs": [],
   "source": [
    "def half_round(data, quater_finals):\n",
    "    half_final_1 = simulate_game_ko(data, quater_finals[0], quater_finals[1])\n",
    "    half_final_2 = simulate_game_ko(data, quater_finals[2], quater_finals[3])\n",
    "\n",
    "    half_finals = [half_final_1, half_final_2]\n",
    "\n",
    "    return half_finals\n",
    "\n",
    "test_half = half_round(data_goals, test_quater)\n",
    "print(test_half)"
   ]
  },
  {
   "cell_type": "code",
   "execution_count": null,
   "metadata": {
    "ExecuteTime": {
     "end_time": "2024-05-16T15:54:09.136534Z",
     "start_time": "2024-05-16T15:54:09.120229600Z"
    }
   },
   "outputs": [],
   "source": [
    "def final_round(data, half_finals):\n",
    "    final = simulate_game_ko(data, half_finals[0], half_finals[1])\n",
    "\n",
    "    return final\n",
    "\n",
    "test_final = final_round(data_goals, test_half)\n",
    "print(test_final)"
   ]
  },
  {
   "cell_type": "code",
   "execution_count": null,
   "metadata": {
    "ExecuteTime": {
     "end_time": "2024-05-16T15:54:10.015719700Z",
     "start_time": "2024-05-16T15:54:09.714445700Z"
    }
   },
   "outputs": [],
   "source": [
    "def simulate_tournament(data):\n",
    "    octa_finals = octa_round(data)\n",
    "    quater_finals = quater_round(data, octa_finals)\n",
    "    half_finals = half_round(data, quater_finals)\n",
    "    final = final_round(data, half_finals)\n",
    "\n",
    "    return final\n",
    "\n",
    "test_tournament = simulate_tournament(data_goals)\n"
   ]
  },
  {
   "cell_type": "code",
   "execution_count": null,
   "metadata": {
    "ExecuteTime": {
     "end_time": "2024-05-16T15:54:12.201109200Z",
     "start_time": "2024-05-16T15:54:12.192877600Z"
    }
   },
   "outputs": [],
   "source": [
    "def multiple_simulations(data, n):\n",
    "    winner_dict = {}\n",
    "\n",
    "    for i in range(n):\n",
    "        winner = simulate_tournament(data)\n",
    "        print(i)\n",
    "\n",
    "        if winner not in winner_dict:\n",
    "            winner_dict[winner] = 1\n",
    "        else:\n",
    "            winner_dict[winner] += 1\n",
    "        \n",
    "    return winner_dict"
   ]
  },
  {
   "cell_type": "code",
   "execution_count": null,
   "metadata": {
    "ExecuteTime": {
     "end_time": "2024-05-16T15:55:37.981449400Z",
     "start_time": "2024-05-16T15:54:13.916199300Z"
    }
   },
   "outputs": [],
   "source": [
    "n = 300\n",
    "lst = multiple_simulations(data_goals, n)\n",
    "print(lst)"
   ]
  },
  {
   "cell_type": "code",
   "execution_count": null,
   "metadata": {
    "ExecuteTime": {
     "end_time": "2024-05-16T15:55:46.806344400Z",
     "start_time": "2024-05-16T15:55:46.529491600Z"
    }
   },
   "outputs": [],
   "source": [
    "plt.barh(list(lst.keys()), lst.values())  # Horizontaler Balkendiagramm\n",
    "plt.xlabel('Häufigkeit')\n",
    "plt.ylabel('Gewinner')\n",
    "plt.title('Häufigkeit der Gewinner in Simulationen')\n",
    "plt.show()"
   ]
  },
  {
   "cell_type": "code",
   "execution_count": null,
   "metadata": {},
   "outputs": [],
   "source": [
    "print(\"Chance das die Schweiz die EM gewinnt liegt bei:\", lst[\"Schweiz\"]/n * 100, \"%\")\n",
    "print(\"Anzahl der Simulationen:\", n)"
   ]
  },
  {
   "cell_type": "code",
   "execution_count": null,
   "metadata": {},
   "outputs": [],
   "source": [
    "# def ko_quali_list(group_rangking, groups = [\"A\", \"B\", \"C\", \"D\", \"E\", \"F\"]):\n",
    "#     winner = []\n",
    "\n",
    "#     for group in groups:\n",
    "#         if \n",
    "\n",
    "\n",
    "#def ko_simulation():\n",
    "      \n",
    " \n",
    "    \n",
    "  \n",
    "# def ko_winners():\n",
    "\n",
    "    \n",
    "\n",
    "# def final_simulation():\n",
    "    \n",
    "\n",
    "# def simulation(data, repetitions):\n"
   ]
  },
  {
   "cell_type": "code",
   "execution_count": null,
   "metadata": {},
   "outputs": [],
   "source": [
    "# TO DO:\n",
    "# - create all functions\n",
    "# - make this file a heler file\n",
    "# - run the simulation in a new file called simulation\n",
    "# - calc the possibility that Switzerland wins the EC"
   ]
  }
 ],
 "metadata": {
  "kernelspec": {
   "display_name": "Python 3",
   "language": "python",
   "name": "python3"
  },
  "language_info": {
   "codemirror_mode": {
    "name": "ipython",
    "version": 3
   },
   "file_extension": ".py",
   "mimetype": "text/x-python",
   "name": "python",
   "nbconvert_exporter": "python",
   "pygments_lexer": "ipython3",
   "version": "3.11.4"
  }
 },
 "nbformat": 4,
 "nbformat_minor": 2
}
